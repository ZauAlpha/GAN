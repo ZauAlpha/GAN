{
  "cells": [
    {
      "cell_type": "code",
      "execution_count": null,
      "metadata": {
        "id": "CkSPn99Z1P0g"
      },
      "outputs": [],
      "source": [
        "import tensorflow as tf\n",
        "from tensorflow import keras\n",
        "from tensorflow.keras import layers\n",
        "from tensorflow.keras.callbacks import ModelCheckpoint\n",
        "import numpy as np\n",
        "import matplotlib.pyplot as plt\n",
        "import os\n",
        "import gdown\n",
        "from zipfile import ZipFile\n",
        "from keras.models import Sequential\n",
        "from keras.layers import Dense, Flatten, Reshape, Conv2DTranspose, Conv2D, LeakyReLU\n",
        "from keras.optimizers import Adam\n",
        "from google.colab import drive\n"
      ]
    },
    {
      "cell_type": "code",
      "source": [
        "os.makedirs(\"celeba_gan\")\n",
        "drive.mount('/content/drive')\n",
        "url = \"https://drive.google.com/uc?id=1O7m1010EJjLE5QxLZiM9Fpjs7Oj6e684\"\n",
        "output = \"celeba_gan/data.zip\"\n",
        "gdown.download(url, output, quiet=True)\n",
        "\n",
        "\n",
        "with ZipFile(\"celeba_gan/data.zip\", \"r\") as zipobj:\n",
        "    zipobj.extractall(\"celeba_gan\")"
      ],
      "metadata": {
        "id": "3CmWA-0qvQ_D",
        "colab": {
          "base_uri": "https://localhost:8080/"
        },
        "outputId": "1ec817a5-5e73-4d3b-89f3-0d7873984ea7"
      },
      "execution_count": null,
      "outputs": [
        {
          "output_type": "stream",
          "name": "stdout",
          "text": [
            "Mounted at /content/drive\n"
          ]
        }
      ]
    },
    {
      "cell_type": "code",
      "execution_count": null,
      "metadata": {
        "colab": {
          "base_uri": "https://localhost:8080/"
        },
        "id": "g__K9QGkT-gs",
        "outputId": "3d50fab5-a266-4e25-9de5-af2e769fa003"
      },
      "outputs": [
        {
          "output_type": "stream",
          "name": "stdout",
          "text": [
            "Found 202599 files belonging to 1 classes.\n",
            "tf.Tensor(6332, shape=(), dtype=int64)\n",
            "tf.Tensor(5000, shape=(), dtype=int64)\n"
          ]
        }
      ],
      "source": [
        "if not os.path.exists('/content/drive/My Drive/my_folder'):\n",
        "    os.makedirs('/content/drive/My Drive/my_folder')\n",
        "dataset = keras.utils.image_dataset_from_directory(\n",
        "    \"celeba_gan\", label_mode=None, image_size=(128, 128), batch_size=32\n",
        ")\n",
        "\n",
        "print(tf.data.experimental.cardinality(dataset))\n",
        "dataset = dataset.take(5000)\n",
        "print(tf.data.experimental.cardinality(dataset))\n",
        "dataset = dataset.map(lambda x: x / 255.0)\n",
        "\n"
      ]
    },
    {
      "cell_type": "code",
      "execution_count": null,
      "metadata": {
        "id": "jTC5pctIVaH8"
      },
      "outputs": [],
      "source": [
        "def build_discriminator():\n",
        "    discriminator = keras.Sequential(\n",
        "    [\n",
        "        keras.Input(shape=(128, 128, 3)),\n",
        "        layers.Conv2D(128, kernel_size=4, strides=2, padding=\"same\"),\n",
        "        layers.LeakyReLU(alpha=0.2),\n",
        "        layers.Conv2D(128, kernel_size=4, strides=2, padding=\"same\"),\n",
        "        layers.LeakyReLU(alpha=0.2),\n",
        "        layers.Conv2D(128, kernel_size=4, strides=2, padding=\"same\"),\n",
        "        layers.LeakyReLU(alpha=0.2),\n",
        "        layers.Flatten(),\n",
        "        layers.Dropout(0.2),\n",
        "        layers.Dense(1, activation=\"sigmoid\"),\n",
        "    ],\n",
        "    name=\"discriminator\",\n",
        ")\n",
        "    discriminator.summary()\n",
        "    return discriminator"
      ]
    },
    {
      "cell_type": "code",
      "execution_count": null,
      "metadata": {
        "id": "E-e5h5TSVbQc"
      },
      "outputs": [],
      "source": [
        "def build_generator(latent_dim):\n",
        "   \n",
        "   generator = keras.Sequential(\n",
        "    [\n",
        "        keras.Input(shape=(latent_dim,)),\n",
        "        layers.Dense(8 * 8 * 128),\n",
        "        layers.Reshape((8, 8, 128)),\n",
        "        layers.Conv2DTranspose(128, kernel_size=4, strides=2, padding=\"same\"),\n",
        "        layers.LeakyReLU(alpha=0.2),\n",
        "        layers.Conv2DTranspose(256, kernel_size=4, strides=2, padding=\"same\"),\n",
        "        layers.LeakyReLU(alpha=0.2),\n",
        "        layers.Conv2DTranspose(512, kernel_size=4, strides=2, padding=\"same\"),\n",
        "        layers.LeakyReLU(alpha=0.2),\n",
        "        layers.Conv2DTranspose(3, kernel_size=4, strides=2, padding=\"same\", activation=\"sigmoid\"),\n",
        "    ],\n",
        "    name=\"generator\",\n",
        "    )\n",
        "   generator.summary()\n",
        "   return generator"
      ]
    },
    {
      "cell_type": "code",
      "execution_count": null,
      "metadata": {
        "id": "vsGOvMaXVhNz"
      },
      "outputs": [],
      "source": [
        "class GAN(keras.Model):\n",
        "    def __init__(self, discriminator, generator, latent_dim):\n",
        "        super().__init__()\n",
        "        self.discriminator = discriminator\n",
        "        self.generator = generator\n",
        "        self.latent_dim = latent_dim\n",
        "\n",
        "    def compile(self, d_optimizer, g_optimizer, loss_fn):\n",
        "        super().compile()\n",
        "        self.d_optimizer = d_optimizer\n",
        "        self.g_optimizer = g_optimizer\n",
        "        self.loss_fn = loss_fn\n",
        "        self.d_loss_metric = keras.metrics.Mean(name=\"d_loss\")\n",
        "        self.g_loss_metric = keras.metrics.Mean(name=\"g_loss\")\n",
        "\n",
        "    @property\n",
        "    def metrics(self):\n",
        "        return [self.d_loss_metric, self.g_loss_metric]\n",
        "\n",
        "    def train_step(self, real_images):\n",
        "        # Sample random points in the latent space\n",
        "        batch_size = tf.shape(real_images)[0]\n",
        "        random_latent_vectors = tf.random.normal(shape=(batch_size, self.latent_dim))\n",
        "\n",
        "        # Decode them to fake images\n",
        "        generated_images = self.generator(random_latent_vectors)\n",
        "\n",
        "        # Combine them with real images\n",
        "        combined_images = tf.concat([generated_images, real_images], axis=0)\n",
        "\n",
        "        # Assemble labels discriminating real from fake images\n",
        "        labels = tf.concat(\n",
        "            [tf.ones((batch_size, 1)), tf.zeros((batch_size, 1))], axis=0\n",
        "        )\n",
        "        # Add random noise to the labels - important trick!\n",
        "        labels += 0.05 * tf.random.uniform(tf.shape(labels))\n",
        "\n",
        "        # Train the discriminator\n",
        "        with tf.GradientTape() as tape:\n",
        "            predictions = self.discriminator(combined_images)\n",
        "            d_loss = self.loss_fn(labels, predictions)\n",
        "        grads = tape.gradient(d_loss, self.discriminator.trainable_weights)\n",
        "        self.d_optimizer.apply_gradients(\n",
        "            zip(grads, self.discriminator.trainable_weights)\n",
        "        )\n",
        "\n",
        "        # Sample random points in the latent space\n",
        "        random_latent_vectors = tf.random.normal(shape=(batch_size, self.latent_dim))\n",
        "\n",
        "        # Assemble labels that say \"all real images\"\n",
        "        misleading_labels = tf.zeros((batch_size, 1))\n",
        "\n",
        "        # Train the generator (note that we should *not* update the weights\n",
        "        # of the discriminator)!\n",
        "        with tf.GradientTape() as tape:\n",
        "            predictions = self.discriminator(self.generator(random_latent_vectors))\n",
        "            g_loss = self.loss_fn(misleading_labels, predictions)\n",
        "        grads = tape.gradient(g_loss, self.generator.trainable_weights)\n",
        "        self.g_optimizer.apply_gradients(zip(grads, self.generator.trainable_weights))\n",
        "\n",
        "        # Update metrics\n",
        "        self.d_loss_metric.update_state(d_loss)\n",
        "        self.g_loss_metric.update_state(g_loss)\n",
        "        return {\n",
        "            \"d_loss\": self.d_loss_metric.result(),\n",
        "            \"g_loss\": self.g_loss_metric.result(),\n",
        "        }"
      ]
    },
    {
      "cell_type": "code",
      "execution_count": null,
      "metadata": {
        "id": "vXX25CmzeXmt"
      },
      "outputs": [],
      "source": [
        "class GANMonitor(keras.callbacks.Callback):\n",
        "    def __init__(self, latent_dim=128):\n",
        "        self.num_img = 1\n",
        "        self.latent_dim = latent_dim\n",
        "\n",
        "    def on_epoch_end(self, epoch, logs=None):\n",
        "        random_latent_vectors = tf.random.normal(shape=(self.num_img, self.latent_dim))\n",
        "        generated_images = self.model.generator(random_latent_vectors)\n",
        "        generated_images *= 255\n",
        "        generated_images.numpy()\n",
        "        img = keras.preprocessing.image.array_to_img(generated_images[0])\n",
        "        img.save(\"/content/drive/My Drive/my_folder/generated_img_%03d.png\" % epoch)\n"
      ]
    },
    {
      "cell_type": "code",
      "execution_count": null,
      "metadata": {
        "colab": {
          "base_uri": "https://localhost:8080/"
        },
        "id": "tO9Y_zAjXc2O",
        "outputId": "6aa10e06-28e3-4f71-b253-556d2ea2fde8"
      },
      "outputs": [
        {
          "output_type": "stream",
          "name": "stdout",
          "text": [
            "Model: \"discriminator\"\n",
            "_________________________________________________________________\n",
            " Layer (type)                Output Shape              Param #   \n",
            "=================================================================\n",
            " conv2d_17 (Conv2D)          (None, 64, 64, 128)       6272      \n",
            "                                                                 \n",
            " leaky_re_lu_30 (LeakyReLU)  (None, 64, 64, 128)       0         \n",
            "                                                                 \n",
            " conv2d_18 (Conv2D)          (None, 32, 32, 128)       262272    \n",
            "                                                                 \n",
            " leaky_re_lu_31 (LeakyReLU)  (None, 32, 32, 128)       0         \n",
            "                                                                 \n",
            " conv2d_19 (Conv2D)          (None, 16, 16, 128)       262272    \n",
            "                                                                 \n",
            " leaky_re_lu_32 (LeakyReLU)  (None, 16, 16, 128)       0         \n",
            "                                                                 \n",
            " flatten_5 (Flatten)         (None, 32768)             0         \n",
            "                                                                 \n",
            " dropout_5 (Dropout)         (None, 32768)             0         \n",
            "                                                                 \n",
            " dense_10 (Dense)            (None, 1)                 32769     \n",
            "                                                                 \n",
            "=================================================================\n",
            "Total params: 563,585\n",
            "Trainable params: 563,585\n",
            "Non-trainable params: 0\n",
            "_________________________________________________________________\n",
            "Model: \"generator\"\n",
            "_________________________________________________________________\n",
            " Layer (type)                Output Shape              Param #   \n",
            "=================================================================\n",
            " dense_11 (Dense)            (None, 8192)              1056768   \n",
            "                                                                 \n",
            " reshape_5 (Reshape)         (None, 8, 8, 128)         0         \n",
            "                                                                 \n",
            " conv2d_transpose_18 (Conv2D  (None, 16, 16, 128)      262272    \n",
            " Transpose)                                                      \n",
            "                                                                 \n",
            " leaky_re_lu_33 (LeakyReLU)  (None, 16, 16, 128)       0         \n",
            "                                                                 \n",
            " conv2d_transpose_19 (Conv2D  (None, 32, 32, 256)      524544    \n",
            " Transpose)                                                      \n",
            "                                                                 \n",
            " leaky_re_lu_34 (LeakyReLU)  (None, 32, 32, 256)       0         \n",
            "                                                                 \n",
            " conv2d_transpose_20 (Conv2D  (None, 64, 64, 512)      2097664   \n",
            " Transpose)                                                      \n",
            "                                                                 \n",
            " leaky_re_lu_35 (LeakyReLU)  (None, 64, 64, 512)       0         \n",
            "                                                                 \n",
            " conv2d_transpose_21 (Conv2D  (None, 128, 128, 3)      24579     \n",
            " Transpose)                                                      \n",
            "                                                                 \n",
            "=================================================================\n",
            "Total params: 3,965,827\n",
            "Trainable params: 3,965,827\n",
            "Non-trainable params: 0\n",
            "_________________________________________________________________\n",
            "Epoch 1/30\n",
            "5000/5000 [==============================] - 146s 28ms/step - d_loss: 0.4799 - g_loss: 1.8892\n",
            "Epoch 2/30\n",
            "5000/5000 [==============================] - 141s 28ms/step - d_loss: 0.5522 - g_loss: 1.4856\n",
            "Epoch 3/30\n",
            "5000/5000 [==============================] - 141s 28ms/step - d_loss: 0.5751 - g_loss: 1.3621\n",
            "Epoch 4/30\n",
            "5000/5000 [==============================] - 141s 28ms/step - d_loss: 0.5570 - g_loss: 1.4423\n",
            "Epoch 5/30\n",
            "5000/5000 [==============================] - 141s 28ms/step - d_loss: 0.5316 - g_loss: 1.5327\n",
            "Epoch 6/30\n",
            "5000/5000 [==============================] - 141s 28ms/step - d_loss: 0.5207 - g_loss: 1.5835\n",
            "Epoch 7/30\n",
            "5000/5000 [==============================] - 142s 28ms/step - d_loss: 0.5250 - g_loss: 1.5275\n",
            "Epoch 8/30\n",
            "5000/5000 [==============================] - 141s 28ms/step - d_loss: 0.5135 - g_loss: 1.5661\n",
            "Epoch 9/30\n",
            "5000/5000 [==============================] - 141s 28ms/step - d_loss: 0.5104 - g_loss: 1.5047\n",
            "Epoch 10/30\n",
            "5000/5000 [==============================] - 141s 28ms/step - d_loss: 0.5032 - g_loss: 1.5282\n",
            "Epoch 11/30\n",
            "5000/5000 [==============================] - 142s 28ms/step - d_loss: 0.5061 - g_loss: 1.5492\n",
            "Epoch 12/30\n",
            "5000/5000 [==============================] - 142s 28ms/step - d_loss: 0.5039 - g_loss: 1.5161\n",
            "Epoch 13/30\n",
            "5000/5000 [==============================] - 142s 28ms/step - d_loss: 0.5080 - g_loss: 1.5157\n",
            "Epoch 14/30\n",
            "5000/5000 [==============================] - 142s 28ms/step - d_loss: 0.5152 - g_loss: 1.5091\n",
            "Epoch 15/30\n",
            "5000/5000 [==============================] - 142s 28ms/step - d_loss: 0.5159 - g_loss: 1.4593\n",
            "Epoch 16/30\n",
            "5000/5000 [==============================] - 142s 28ms/step - d_loss: 0.5198 - g_loss: 1.4860\n",
            "Epoch 17/30\n",
            "5000/5000 [==============================] - 142s 28ms/step - d_loss: 0.5095 - g_loss: 1.5045\n",
            "Epoch 18/30\n",
            "5000/5000 [==============================] - 142s 28ms/step - d_loss: 0.5051 - g_loss: 1.4998\n",
            "Epoch 19/30\n",
            "5000/5000 [==============================] - 142s 28ms/step - d_loss: 0.4945 - g_loss: 1.5673\n",
            "Epoch 20/30\n",
            "5000/5000 [==============================] - 142s 28ms/step - d_loss: 0.4901 - g_loss: 1.5369\n",
            "Epoch 21/30\n",
            "5000/5000 [==============================] - 142s 28ms/step - d_loss: 0.4798 - g_loss: 1.5878\n",
            "Epoch 22/30\n",
            "5000/5000 [==============================] - 142s 28ms/step - d_loss: 0.4678 - g_loss: 1.6084\n",
            "Epoch 23/30\n",
            "5000/5000 [==============================] - 142s 28ms/step - d_loss: 0.4690 - g_loss: 1.5833\n",
            "Epoch 24/30\n",
            "5000/5000 [==============================] - 142s 28ms/step - d_loss: 0.4622 - g_loss: 1.6195\n",
            "Epoch 25/30\n",
            "5000/5000 [==============================] - 142s 28ms/step - d_loss: 0.4634 - g_loss: 1.6143\n",
            "Epoch 26/30\n",
            "5000/5000 [==============================] - 142s 28ms/step - d_loss: 0.4578 - g_loss: 1.6519\n",
            "Epoch 27/30\n",
            "5000/5000 [==============================] - 142s 28ms/step - d_loss: 0.4536 - g_loss: 1.6489\n",
            "Epoch 28/30\n",
            "5000/5000 [==============================] - 142s 28ms/step - d_loss: 0.4498 - g_loss: 1.6528\n",
            "Epoch 29/30\n",
            "5000/5000 [==============================] - 143s 29ms/step - d_loss: 0.4462 - g_loss: 1.6797\n",
            "Epoch 30/30\n",
            "5000/5000 [==============================] - 142s 28ms/step - d_loss: 0.4436 - g_loss: 1.6691\n"
          ]
        }
      ],
      "source": [
        "discriminator = build_discriminator()\n",
        "# Crear el generador\n",
        "generator = build_generator(128)\n",
        "epochs = 30  # In practice, use ~100 epochs\n",
        "\n",
        "gan = GAN(discriminator=discriminator, generator=generator, latent_dim=128)\n",
        "\n",
        "\n",
        "    \n",
        "gan.compile(\n",
        "    d_optimizer=keras.optimizers.Adam(learning_rate=0.0001),\n",
        "    g_optimizer=keras.optimizers.Adam(learning_rate=0.0001),\n",
        "    loss_fn=keras.losses.BinaryCrossentropy(),\n",
        ")\n",
        "gan.built=True\n",
        "if not os.path.exists('/content/drive/My Drive/checkpoint'):\n",
        "    os.makedirs('/content/drive/My Drive/checkpoint')\n",
        "history = gan.fit(\n",
        "    dataset, epochs=epochs, callbacks=[GANMonitor(latent_dim=128)]\n",
        ")\n"
      ]
    },
    {
      "cell_type": "code",
      "source": [
        "# Get the discriminator and generator losses from the history\n",
        "d_loss = history.history['d_loss']\n",
        "g_loss = history.history['g_loss']\n",
        "\n",
        "# Create a figure and set its size\n",
        "plt.figure(figsize=(10, 6))\n",
        "\n",
        "# Plot the discriminator and generator losses over time\n",
        "plt.plot(d_loss, label='Discriminator loss')\n",
        "plt.plot(g_loss, label='Generator loss')\n",
        "\n",
        "# Add a title and axis labels\n",
        "plt.title('GAN Model Accuracy')\n",
        "plt.xlabel('Epoch')\n",
        "plt.ylabel('Accuracy')\n",
        "\n",
        "# Add a legend\n",
        "plt.legend()\n",
        "\n",
        "# Show the plot\n",
        "plt.show()\n"
      ],
      "metadata": {
        "colab": {
          "base_uri": "https://localhost:8080/",
          "height": 564
        },
        "id": "L4yj7Dc3iC2W",
        "outputId": "929b9968-2791-4b0e-e760-d210a4754497"
      },
      "execution_count": null,
      "outputs": [
        {
          "output_type": "display_data",
          "data": {
            "text/plain": [
              "<Figure size 1000x600 with 1 Axes>"
            ],
            "image/png": "[encoded data removed]"
          },
          "metadata": {}
        }
      ]
    }
  ],
  "metadata": {
    "colab": {
      "provenance": []
    },
    "gpuClass": "premium",
    "kernelspec": {
      "display_name": "Python 3",
      "name": "python3"
    },
    "language_info": {
      "name": "python"
    },
    "accelerator": "GPU"
  },
  "nbformat": 4,
  "nbformat_minor": 0
}